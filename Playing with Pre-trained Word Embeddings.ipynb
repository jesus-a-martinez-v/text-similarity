{
 "cells": [
  {
   "cell_type": "markdown",
   "metadata": {},
   "source": [
    "# Playing with Pre-Trained Word Embeddings\n",
    "\n",
    "In this notebook we'll play a bit with word embeddings pre-trained on the Google News corpora. Given training a Word2Vec model is quite expensive both in time and resources, it is very likelly that we'll need to leverage pre-trained models as this. \n",
    "\n",
    "In essence this pre-trained model is just a big lookup table that links words to their vector representation.\n",
    "\n",
    "Word embeddings are a very powerful tool in the world of Natural Language Processing and are often used as a preprocessing step for text."
   ]
  },
  {
   "cell_type": "markdown",
   "metadata": {},
   "source": [
    "## Before starting...\n",
    "\n",
    "Let's import all the libraries we'll need beforehand. Most of the code we'll use is in the `helpers.py` script. Eventually I'll show some functions using the `inspect` library."
   ]
  },
  {
   "cell_type": "code",
   "execution_count": 1,
   "metadata": {},
   "outputs": [
    {
     "name": "stderr",
     "output_type": "stream",
     "text": [
      "Using TensorFlow backend.\n"
     ]
    }
   ],
   "source": [
    "%matplotlib inline\n",
    "\n",
    "from helpers import *\n",
    "import inspect\n",
    "import gensim\n",
    "import matplotlib as plt\n",
    "from IPython.core.pylabtools import figsize\n",
    "\n",
    "figsize(20, 20)"
   ]
  },
  {
   "cell_type": "markdown",
   "metadata": {},
   "source": [
    "## Finding word similarity using a pre-trained model\n",
    "\n",
    "We want to determine which words are similar between them. We can achieve this using a pre-trained model. \n",
    "\n",
    "First, we need to download the Google News model. The name of that model is as follows:"
   ]
  },
  {
   "cell_type": "code",
   "execution_count": 2,
   "metadata": {},
   "outputs": [
    {
     "data": {
      "text/plain": [
       "'GoogleNews-vectors-negative300.bin'"
      ]
     },
     "execution_count": 2,
     "metadata": {},
     "output_type": "execute_result"
    }
   ],
   "source": [
    "MODEL"
   ]
  },
  {
   "cell_type": "markdown",
   "metadata": {},
   "source": [
    "To download it, we'll first fetch it using the `get_file` function from Keras and then unzipping it into a predefined location:"
   ]
  },
  {
   "cell_type": "code",
   "execution_count": 3,
   "metadata": {},
   "outputs": [
    {
     "name": "stdout",
     "output_type": "stream",
     "text": [
      "def unzip_file(input_zipped_file, destination):\n",
      "    if not os.path.isdir(destination):\n",
      "        with open(destination, 'wb') as fout:\n",
      "            zcat = subprocess.Popen(['zcat'], stdin=open(input_zipped_file), stdout=fout)\n",
      "            zcat.wait()\n",
      "\n"
     ]
    }
   ],
   "source": [
    "print(inspect.getsource(unzip_file))"
   ]
  },
  {
   "cell_type": "code",
   "execution_count": 4,
   "metadata": {},
   "outputs": [
    {
     "name": "stdout",
     "output_type": "stream",
     "text": [
      "def download_google_news_model(destination='generated'):\n",
      "    unzipped_destination_file = os.path.join(destination, MODEL)\n",
      "    if not os.path.exists(unzipped_destination_file):\n",
      "        # get_file won't download the file twice if it finds it in its cache\n",
      "        path = get_file(f'{MODEL}.gz', f'https://s3.amazonaws.com/dl4j-distribution/{MODEL}.gz')\n",
      "\n",
      "        if not os.path.isdir(destination):\n",
      "            os.mkdir(destination)\n",
      "\n",
      "        unzip_file(path, unzipped_destination_file)\n",
      "\n",
      "    return unzipped_destination_file\n",
      "\n"
     ]
    }
   ],
   "source": [
    "print(inspect.getsource(download_google_news_model))"
   ]
  },
  {
   "cell_type": "code",
   "execution_count": 5,
   "metadata": {},
   "outputs": [],
   "source": [
    "# First, let's download the model.\n",
    "unzipped = download_google_news_model()\n",
    "\n",
    "# Then, let's create a Word2Vec model using the downloaded parameters.\n",
    "gnews_model = gensim.models.KeyedVectors.load_word2vec_format(unzipped, binary=True)"
   ]
  },
  {
   "cell_type": "markdown",
   "metadata": {},
   "source": [
    "The model is quite heavy (around 3.5 GB). We can use it to look for words similar to another. For that matter we'll use the following function:"
   ]
  },
  {
   "cell_type": "code",
   "execution_count": 6,
   "metadata": {},
   "outputs": [
    {
     "name": "stdout",
     "output_type": "stream",
     "text": [
      "def get_most_similar_terms(model, terms):\n",
      "    assert isinstance(terms, str) or isinstance(terms, list)\n",
      "\n",
      "    terms = [terms] if isinstance(terms, str) else terms\n",
      "\n",
      "    return model.most_similar(positive=terms)\n",
      "\n"
     ]
    }
   ],
   "source": [
    "print(inspect.getsource(get_most_similar_terms))"
   ]
  },
  {
   "cell_type": "code",
   "execution_count": 7,
   "metadata": {},
   "outputs": [
    {
     "name": "stderr",
     "output_type": "stream",
     "text": [
      "/Users/jesusmartinez/miniconda3/envs/text-similarity/lib/python3.6/site-packages/gensim/matutils.py:737: FutureWarning: Conversion of the second argument of issubdtype from `int` to `np.signedinteger` is deprecated. In future, it will be treated as `np.int64 == np.dtype(int).type`.\n",
      "  if np.issubdtype(vec.dtype, np.int):\n"
     ]
    },
    {
     "data": {
      "text/plain": [
       "[('bicycle', 0.8521308898925781),\n",
       " ('bikes', 0.8127913475036621),\n",
       " ('mountain_bike', 0.7518468499183655),\n",
       " ('scooter', 0.7495757937431335),\n",
       " ('motorcycle', 0.7016158103942871),\n",
       " ('Bike', 0.7006312608718872),\n",
       " ('biking', 0.6792795658111572),\n",
       " ('BMX_bike', 0.6724931597709656),\n",
       " ('bicycles', 0.670872688293457),\n",
       " ('moped', 0.642906665802002)]"
      ]
     },
     "execution_count": 7,
     "metadata": {},
     "output_type": "execute_result"
    }
   ],
   "source": [
    "get_most_similar_terms(gnews_model, 'bike')"
   ]
  },
  {
   "cell_type": "markdown",
   "metadata": {},
   "source": [
    "The magic of Word2Vec is that it places the vectors associated to similar words near each other in the n-dimesional space that contains them. Hence, finding similar words is just a nearest-neighbor search."
   ]
  },
  {
   "cell_type": "markdown",
   "metadata": {},
   "source": [
    "## Arithmetic in Word2Vec world\n",
    "\n",
    "The great thing about the vectors that Word2Vec use to represent words are just that, vectors, an as such we can apply arithmetic operations on them. \n",
    "\n",
    "What's really impressive about this is that these operations have a meaning! For instance, we can use this to find relationships of the type \"what relates to King the way Son relates to Daughter?\".\n",
    "\n",
    "The following function allow us to do that:"
   ]
  },
  {
   "cell_type": "code",
   "execution_count": 8,
   "metadata": {},
   "outputs": [
    {
     "name": "stdout",
     "output_type": "stream",
     "text": [
      "def a_is_to_b_as_c_is_to(model, a, b, c, top_n=1):\n",
      "    # Ensures a, b and c are lists.\n",
      "    a, b, c = map(lambda x: x if isinstance(x, list) else [x], (a, b, c))\n",
      "\n",
      "    positives = b + c\n",
      "    negatives = a\n",
      "    results = model.most_similar(positive=positives, negative=negatives, topn=top_n)\n",
      "\n",
      "    if len(results) > 0:\n",
      "        if top_n == 1:\n",
      "            return results[0][0]  # Return single element\n",
      "        else:\n",
      "            return [result[0] for result in results]\n",
      "\n",
      "    return None\n",
      "\n"
     ]
    }
   ],
   "source": [
    "print(inspect.getsource(a_is_to_b_as_c_is_to))"
   ]
  },
  {
   "cell_type": "code",
   "execution_count": 9,
   "metadata": {},
   "outputs": [
    {
     "data": {
      "text/plain": [
       "'queen'"
      ]
     },
     "execution_count": 9,
     "metadata": {},
     "output_type": "execute_result"
    }
   ],
   "source": [
    "a_is_to_b_as_c_is_to(gnews_model, 'man', 'woman', 'king')"
   ]
  },
  {
   "cell_type": "markdown",
   "metadata": {},
   "source": [
    "We can also use this function to find the capitals of other countries based on a sample relationship:"
   ]
  },
  {
   "cell_type": "code",
   "execution_count": 10,
   "metadata": {},
   "outputs": [
    {
     "name": "stdout",
     "output_type": "stream",
     "text": [
      "Beijing is the capital of China.\n",
      "Caracas is the capital of Venezuela.\n",
      "Rome is the capital of Italy.\n",
      "Bogotá is the capital of Colombia.\n"
     ]
    }
   ],
   "source": [
    "for country in {'Italy', 'China', 'Venezuela', 'Colombia'}:\n",
    "    print(f'{a_is_to_b_as_c_is_to(gnews_model, \"Germany\", \"Berlin\", country)} is the capital of {country}.')"
   ]
  },
  {
   "cell_type": "markdown",
   "metadata": {},
   "source": [
    "Or to find the main products of well-known companies:"
   ]
  },
  {
   "cell_type": "code",
   "execution_count": 11,
   "metadata": {},
   "outputs": [
    {
     "name": "stdout",
     "output_type": "stream",
     "text": [
      "Boeing -> Dreamliner, airframe, aircraft\n",
      "IBM -> DB2, WebSphere_Portal, Tamino_XML_Server\n",
      "Walmart -> WalMart, Wal_Mart_Supercenter, Wal_mart\n",
      "Microsoft -> Windows_Mobile, SyncMate, Windows\n",
      "Tesla -> Tesla_Roadster, supercar, Roadster\n",
      "Google -> personalized_homepage, app, Gmail\n"
     ]
    }
   ],
   "source": [
    "for company in {'Google', 'IBM', 'Boeing', 'Microsoft', 'Walmart', 'Tesla'}:\n",
    "    products = a_is_to_b_as_c_is_to(gnews_model, ['Starbucks', 'Apple'], ['Starbucks_coffee', 'iPhone'], company, top_n=3)\n",
    "    print(f'{company} -> {\", \".join(products)}')"
   ]
  },
  {
   "cell_type": "markdown",
   "metadata": {},
   "source": [
    "## Visualizing word embeddings\n",
    "\n",
    "Trying to picture high-dimensional vectors is always a challenge. Fortunatelly, we can use the TSNE algorithm to project down these embeddings to a more familiar 2D space, while preserving the order and spacial coherence of the vectors. \n",
    "\n",
    "The best way to see this process in action is to have clearly defined clusters. Let's define them:"
   ]
  },
  {
   "cell_type": "code",
   "execution_count": 12,
   "metadata": {},
   "outputs": [
    {
     "name": "stdout",
     "output_type": "stream",
     "text": [
      "Number of items: 29\n"
     ]
    }
   ],
   "source": [
    "beverages = ['espresso', 'beer', 'vodka', 'wine', 'cola', 'tea']\n",
    "countries = ['Italy', 'Spain', 'Canada', 'Russia', 'USA', 'Argentina', 'Venezuela', 'Colombia']\n",
    "sports = ['soccer', 'handball', 'basketball', 'hockey', 'cycling', 'cricket', 'baseball']\n",
    "animals = ['dog', 'cat', 'parrot', 'seahorse', 'zebra', 'rhino', 'elephant', 'cheetah']\n",
    "    \n",
    "items = beverages + countries + sports + animals\n",
    "print(f'Number of items: {len(items)}')"
   ]
  },
  {
   "cell_type": "markdown",
   "metadata": {},
   "source": [
    "Now, we just need to:\n",
    "\n",
    " - Look up the vector associated with each item.\n",
    " - Normalize the vectors.\n",
    " - Use TSNE to find the clusters we expect in a 300-dimensional space.\n",
    " - Plot each item in a 2D space."
   ]
  },
  {
   "cell_type": "code",
   "execution_count": 13,
   "metadata": {},
   "outputs": [
    {
     "name": "stdout",
     "output_type": "stream",
     "text": [
      "def visualize_word_embeddings(model, items):\n",
      "    # Remember that, basically, a model is just a big lookup table from words to vectors.\n",
      "    item_vectors = np.asarray([model[item] for item in items if item in model])\n",
      "\n",
      "    # Normalize vectors.\n",
      "    lengths = np.linalg.norm(item_vectors, axis=1)\n",
      "    norm_vectors = (item_vectors.T / lengths).T\n",
      "\n",
      "    tsne = TSNE(n_components=2, perplexity=10, verbose=2).fit_transform(norm_vectors)\n",
      "\n",
      "    xs = tsne[:, 0]\n",
      "    ys = tsne[:, 1]\n",
      "\n",
      "    _, ax = plt.subplots()\n",
      "    ax.scatter(xs, ys)  # Place points on canvas\n",
      "\n",
      "    for item, x, y in zip(items, xs, ys):\n",
      "        ax.annotate(item, (x, y), size=14)  # Annotate each point with the word it represents\n",
      "\n",
      "    plt.show()\n",
      "\n",
      "[t-SNE] Computing 28 nearest neighbors...\n",
      "[t-SNE] Indexed 29 samples in 0.001s...\n",
      "[t-SNE] Computed neighbors for 29 samples in 0.007s...\n",
      "[t-SNE] Computed conditional probabilities for sample 29 / 29\n",
      "[t-SNE] Mean sigma: 0.507128\n",
      "[t-SNE] Computed conditional probabilities in 0.015s\n",
      "[t-SNE] Iteration 50: error = 58.3212090, gradient norm = 0.4535298 (50 iterations in 0.018s)\n",
      "[t-SNE] Iteration 100: error = 57.6543808, gradient norm = 0.4804843 (50 iterations in 0.010s)\n",
      "[t-SNE] Iteration 150: error = 53.4630508, gradient norm = 0.3016393 (50 iterations in 0.009s)\n",
      "[t-SNE] Iteration 200: error = 68.5195465, gradient norm = 0.1843815 (50 iterations in 0.008s)\n",
      "[t-SNE] Iteration 250: error = 62.4520035, gradient norm = 0.1340198 (50 iterations in 0.008s)\n",
      "[t-SNE] KL divergence after 250 iterations with early exaggeration: 62.452003\n",
      "[t-SNE] Iteration 300: error = 1.2104528, gradient norm = 0.0015070 (50 iterations in 0.009s)\n",
      "[t-SNE] Iteration 350: error = 0.7682868, gradient norm = 0.0011378 (50 iterations in 0.009s)\n",
      "[t-SNE] Iteration 400: error = 0.5698026, gradient norm = 0.0007391 (50 iterations in 0.008s)\n",
      "[t-SNE] Iteration 450: error = 0.3350632, gradient norm = 0.0008935 (50 iterations in 0.007s)\n",
      "[t-SNE] Iteration 500: error = 0.1922458, gradient norm = 0.0003704 (50 iterations in 0.008s)\n",
      "[t-SNE] Iteration 550: error = 0.1625334, gradient norm = 0.0001299 (50 iterations in 0.008s)\n",
      "[t-SNE] Iteration 600: error = 0.1562398, gradient norm = 0.0001452 (50 iterations in 0.007s)\n",
      "[t-SNE] Iteration 650: error = 0.0945177, gradient norm = 0.0002286 (50 iterations in 0.009s)\n",
      "[t-SNE] Iteration 700: error = 0.0889114, gradient norm = 0.0000542 (50 iterations in 0.009s)\n",
      "[t-SNE] Iteration 750: error = 0.0875944, gradient norm = 0.0000312 (50 iterations in 0.009s)\n",
      "[t-SNE] Iteration 800: error = 0.0870319, gradient norm = 0.0000193 (50 iterations in 0.007s)\n",
      "[t-SNE] Iteration 850: error = 0.0867786, gradient norm = 0.0000143 (50 iterations in 0.008s)\n",
      "[t-SNE] Iteration 900: error = 0.0864599, gradient norm = 0.0000150 (50 iterations in 0.008s)\n",
      "[t-SNE] Iteration 950: error = 0.0856770, gradient norm = 0.0000182 (50 iterations in 0.008s)\n",
      "[t-SNE] Iteration 1000: error = 0.0855864, gradient norm = 0.0000198 (50 iterations in 0.009s)\n",
      "[t-SNE] KL divergence after 1000 iterations: 0.085586\n"
     ]
    },
    {
     "data": {
      "image/png": "[encoded data removed]",
      "text/plain": [
       "<Figure size 432x288 with 1 Axes>"
      ]
     },
     "metadata": {
      "needs_background": "light"
     },
     "output_type": "display_data"
    }
   ],
   "source": [
    "print(inspect.getsource(visualize_word_embeddings))\n",
    "\n",
    "# Expectation: We should see four clear clusters, one for beverages, one for animals, one for countries and one for sports.\n",
    "visualize_word_embeddings(gnews_model, items)"
   ]
  },
  {
   "cell_type": "markdown",
   "metadata": {},
   "source": [
    "In the TSNE algorithm the perplexity parameter loosely determines the balance between local accuracy and overall accuracy. Giving it a low value creates small clustersthat are locally accurate, while setting it to a larger value yields more local distortions, but with better clusters, overall."
   ]
  },
  {
   "cell_type": "code",
   "execution_count": null,
   "metadata": {},
   "outputs": [],
   "source": []
  }
 ],
 "metadata": {
  "kernelspec": {
   "display_name": "Python 3",
   "language": "python",
   "name": "python3"
  },
  "language_info": {
   "codemirror_mode": {
    "name": "ipython",
    "version": 3
   },
   "file_extension": ".py",
   "mimetype": "text/x-python",
   "name": "python",
   "nbconvert_exporter": "python",
   "pygments_lexer": "ipython3",
   "version": "3.6.6"
  }
 },
 "nbformat": 4,
 "nbformat_minor": 2
}
