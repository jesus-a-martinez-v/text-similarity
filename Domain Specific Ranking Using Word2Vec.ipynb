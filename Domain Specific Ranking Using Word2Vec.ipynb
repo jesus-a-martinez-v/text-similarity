{
 "cells": [
  {
   "cell_type": "markdown",
   "metadata": {},
   "source": [
    "# Domain Specific Ranking Using Word2Vec\n",
    "\n",
    "**PROTIP!** Check the other notebook first and then return here :)\n",
    "\n",
    "Now, let's see some other useful features of Word2Vec. "
   ]
  },
  {
   "cell_type": "markdown",
   "metadata": {},
   "source": [
    "## Before starting...\n",
    "\n",
    "As usual, let's import the tools we'll need."
   ]
  },
  {
   "cell_type": "code",
   "execution_count": 1,
   "metadata": {},
   "outputs": [
    {
     "name": "stderr",
     "output_type": "stream",
     "text": [
      "Using TensorFlow backend.\n"
     ]
    }
   ],
   "source": [
    "%matplotlib inline\n",
    "\n",
    "from helpers import *\n",
    "import inspect\n",
    "import matplotlib as plt\n",
    "from IPython.core.pylabtools import figsize\n",
    "import geopandas as gpd\n",
    "\n",
    "figsize(20, 20)"
   ]
  },
  {
   "cell_type": "markdown",
   "metadata": {},
   "source": [
    "Of course, let's load our pre-trained model into `gensim`:"
   ]
  },
  {
   "cell_type": "code",
   "execution_count": 2,
   "metadata": {},
   "outputs": [],
   "source": [
    "# First, let's download the model.\n",
    "unzipped = download_google_news_model()\n",
    "\n",
    "# Then, let's create a Word2Vec model using the downloaded parameters.\n",
    "gnews_model = gensim.models.KeyedVectors.load_word2vec_format(unzipped, binary=True)"
   ]
  },
  {
   "cell_type": "markdown",
   "metadata": {},
   "source": [
    "## Finding entity classes in embeddings\n",
    "\n",
    "In high-dimensional spaces are often subspaces that contain only entities of a single class. How can we find them? Well, we can train a classifier that lears to separate the true from the false positives. Our choice is an SVM.\n",
    "\n",
    "Let's try to find countries inside the Google News Word2Vec space.\n",
    "\n",
    "Let's begin finding things similar to Germany:"
   ]
  },
  {
   "cell_type": "code",
   "execution_count": 3,
   "metadata": {},
   "outputs": [
    {
     "name": "stderr",
     "output_type": "stream",
     "text": [
      "/Users/jesusmartinez/miniconda3/envs/text-similarity/lib/python3.6/site-packages/gensim/matutils.py:737: FutureWarning: Conversion of the second argument of issubdtype from `int` to `np.signedinteger` is deprecated. In future, it will be treated as `np.int64 == np.dtype(int).type`.\n",
      "  if np.issubdtype(vec.dtype, np.int):\n"
     ]
    },
    {
     "data": {
      "text/plain": [
       "[('Austria', 0.7461062669754028),\n",
       " ('German', 0.7178750038146973),\n",
       " ('Germans', 0.6628648042678833),\n",
       " ('Switzerland', 0.6506868004798889),\n",
       " ('Hungary', 0.6504982709884644),\n",
       " ('Germnay', 0.649348258972168),\n",
       " ('Netherlands', 0.6437495946884155),\n",
       " ('Cologne', 0.6430779695510864),\n",
       " ('symbol_RSTI', 0.6389946937561035),\n",
       " ('Annita_Kirsten', 0.634294867515564)]"
      ]
     },
     "execution_count": 3,
     "metadata": {},
     "output_type": "execute_result"
    }
   ],
   "source": [
    "get_most_similar_terms(gnews_model, 'Germany')"
   ]
  },
  {
   "cell_type": "markdown",
   "metadata": {},
   "source": [
    "As expected there are a number of countries nearby, but also other things that definitely aren't countries. What this tell us. is that the concept of country isn't a point, but a region in Word2Vec space. Hence, we need a good classifier to find such region.\n",
    "\n",
    "Let's build a dataset. First, we need some positive examples (i.e. countries). In the `resources/countries.csv` we have data of some countries. Let's load them and show a few. We'll use the following function for that purpose:"
   ]
  },
  {
   "cell_type": "code",
   "execution_count": 4,
   "metadata": {},
   "outputs": [
    {
     "name": "stdout",
     "output_type": "stream",
     "text": [
      "def load_countries(source_file='resources/countries.csv'):\n",
      "    with open(source_file, 'r') as f:\n",
      "        countries = list(csv.DictReader(f))\n",
      "\n",
      "    return countries\n",
      "\n"
     ]
    }
   ],
   "source": [
    "print(inspect.getsource(load_countries))"
   ]
  },
  {
   "cell_type": "code",
   "execution_count": 5,
   "metadata": {},
   "outputs": [
    {
     "name": "stdout",
     "output_type": "stream",
     "text": [
      "OrderedDict([('name', 'Canada'), ('cc', 'ca'), ('cc3', 'can')])\n",
      "OrderedDict([('name', 'Turkmenistan'), ('cc', 'tm'), ('cc3', 'tkm')])\n",
      "OrderedDict([('name', 'Ethiopia'), ('cc', 'et'), ('cc3', 'eth')])\n",
      "OrderedDict([('name', 'Swaziland'), ('cc', 'sz'), ('cc3', 'swz')])\n",
      "OrderedDict([('name', 'Czech_Republic'), ('cc', 'cz'), ('cc3', 'cze')])\n",
      "OrderedDict([('name', 'Cameroon'), ('cc', 'cm'), ('cc3', 'cmr')])\n",
      "OrderedDict([('name', 'UAE'), ('cc', 'ae'), ('cc3', 'are')])\n",
      "OrderedDict([('name', 'Liberia'), ('cc', 'lr'), ('cc3', 'lbr')])\n",
      "OrderedDict([('name', 'Netherlands'), ('cc', 'nl'), ('cc3', 'nld')])\n",
      "OrderedDict([('name', 'East_Timor'), ('cc', 'tl'), ('cc3', 'tls')])\n"
     ]
    }
   ],
   "source": [
    "countries = load_countries()\n",
    "for country in countries[:10]:\n",
    "    print(country)"
   ]
  },
  {
   "cell_type": "markdown",
   "metadata": {},
   "source": [
    "Great. Now we need negative examples. This one is easier. There are around 200 countries, which represent 200 words in a corpus of millions, so by sampling randomly our Word2Vec model chances of getting false negatives (countries in our not_countries set) is really, really, **really** small."
   ]
  },
  {
   "cell_type": "markdown",
   "metadata": {},
   "source": [
    "Let's use the `random_sample_words` for this:"
   ]
  },
  {
   "cell_type": "code",
   "execution_count": 6,
   "metadata": {},
   "outputs": [
    {
     "name": "stdout",
     "output_type": "stream",
     "text": [
      "def random_sample_words(model, sample_size):\n",
      "    return random.sample(model.vocab.keys(), sample_size)\n",
      "\n"
     ]
    }
   ],
   "source": [
    "print(inspect.getsource(random_sample_words))"
   ]
  },
  {
   "cell_type": "code",
   "execution_count": 7,
   "metadata": {},
   "outputs": [
    {
     "name": "stdout",
     "output_type": "stream",
     "text": [
      "['Ms._MALVEAUX', 'dialogic', 'tasty_concoctions', 'John_Liviakis', 'PopUp', 'Hubert_Yoshida_Hitachi_Data', 'Andrew_Buckle', 'spokesman_Shi_Guizhong', 'Ventureforth', 'Argentinian_tango']\n"
     ]
    }
   ],
   "source": [
    "NEGATIVE_SAMPLE_SIZE = 5000\n",
    "not_countries = random_sample_words(gnews_model, NEGATIVE_SAMPLE_SIZE)\n",
    "print(not_countries[:10])"
   ]
  },
  {
   "cell_type": "markdown",
   "metadata": {},
   "source": [
    "Let's now create our labeled set."
   ]
  },
  {
   "cell_type": "code",
   "execution_count": 8,
   "metadata": {},
   "outputs": [
    {
     "name": "stdout",
     "output_type": "stream",
     "text": [
      "def create_training_set(model, positives, negatives):\n",
      "    labeled = [(p['name'], 1) for p in positives] + [(n, 0) for n in negatives]\n",
      "    labeled = list(filter(lambda x: x[0] in model, labeled))\n",
      "\n",
      "    random.shuffle(labeled)\n",
      "\n",
      "    X = []\n",
      "    y = []\n",
      "\n",
      "    for word, label in labeled:\n",
      "        X.append(model[word])\n",
      "        y.append(label)\n",
      "\n",
      "    X = np.asarray(X)\n",
      "    y = np.asarray(y)\n",
      "\n",
      "    return labeled, X, y\n",
      "\n"
     ]
    }
   ],
   "source": [
    "print(inspect.getsource(create_training_set))"
   ]
  },
  {
   "cell_type": "code",
   "execution_count": 9,
   "metadata": {},
   "outputs": [
    {
     "name": "stdout",
     "output_type": "stream",
     "text": [
      "# labeled: 5184\n",
      "[('Cotton_Growers_Cooperative', 0), ('de_Villiers_JP_Duminy', 0), ('PRNewswire_FirstCall_WaferGen_Biosystems', 0), ('DX##SO', 0), ('Perez', 0), ('Selling', 0), ('Mercantile_Bancorp.', 0), ('Marty_Verner', 0), ('Salt_Cay', 0), ('attorney_Howard_Srebnick', 0), ('DD#.#', 0), ('Cifer', 0), ('Kefta_Dynamic_Targeting', 0), ('Arrius', 0), ('Sindh_Baluchistan', 0), ('BJ_Koubaroulis', 0), ('Domestic_Abuse_Awareness_Month', 0), ('Liekki', 0), ('Tripp_Messick', 0), ('Raleigh_Audrey_McKoy', 0)]\n",
      "# X: 5184\n",
      "# y: 5184\n"
     ]
    }
   ],
   "source": [
    "labeled, X, y = create_training_set(gnews_model, countries, not_countries)\n",
    "\n",
    "print(f'# labeled: {len(labeled)}')\n",
    "print(labeled[:20])\n",
    "print(f'# X: {len(X)}')\n",
    "print(f'# y: {len(y)}')"
   ]
  },
  {
   "cell_type": "markdown",
   "metadata": {},
   "source": [
    "Given our data comes already shuffled, we can split it into train and test sets manually, like this:"
   ]
  },
  {
   "cell_type": "code",
   "execution_count": 10,
   "metadata": {},
   "outputs": [],
   "source": [
    "TRAINING_FRACTION = 0.7\n",
    "split_point = int(TRAINING_FRACTION * len(labeled))\n",
    "\n",
    "X_train = X[:split_point]\n",
    "y_train = y[:split_point]\n",
    "X_test = X[split_point:]\n",
    "y_test = y[split_point:]"
   ]
  },
  {
   "cell_type": "markdown",
   "metadata": {},
   "source": [
    "Now, time to train!"
   ]
  },
  {
   "cell_type": "code",
   "execution_count": 11,
   "metadata": {},
   "outputs": [
    {
     "data": {
      "text/plain": [
       "SVC(C=1.0, cache_size=200, class_weight=None, coef0=0.0,\n",
       "  decision_function_shape='ovr', degree=3, gamma='auto_deprecated',\n",
       "  kernel='linear', max_iter=-1, probability=False, random_state=None,\n",
       "  shrinking=True, tol=0.001, verbose=False)"
      ]
     },
     "execution_count": 11,
     "metadata": {},
     "output_type": "execute_result"
    }
   ],
   "source": [
    "classifier = SVC(kernel='linear')\n",
    "classifier.fit(X_train, y_train)"
   ]
  },
  {
   "cell_type": "markdown",
   "metadata": {},
   "source": [
    "How **precise** is our model?"
   ]
  },
  {
   "cell_type": "code",
   "execution_count": 12,
   "metadata": {},
   "outputs": [
    {
     "name": "stdout",
     "output_type": "stream",
     "text": [
      "# missed: 3\n",
      "Precision: 99.80719794344473\n"
     ]
    }
   ],
   "source": [
    "predictions = classifier.predict(X_test)\n",
    "\n",
    "missed = [country \n",
    "          for (prediction, truth, country) in \n",
    "          zip(predictions, y_test, labeled[split_point:]) \n",
    "          if prediction != truth]\n",
    "precision = 100 - 100 * float(len(missed)) / len(predictions)\n",
    "print(f'# missed: {len(missed)}')\n",
    "print(f'Precision: {precision}')"
   ]
  },
  {
   "cell_type": "markdown",
   "metadata": {},
   "source": [
    "We can use our model to make predictions on **all** the words in the pretrained model:"
   ]
  },
  {
   "cell_type": "code",
   "execution_count": 13,
   "metadata": {},
   "outputs": [
    {
     "name": "stdout",
     "output_type": "stream",
     "text": [
      "def get_all_predictions(classifier, model):\n",
      "    all_predictions = classifier.predict(model.wv.vectors)\n",
      "\n",
      "    correct = []\n",
      "    not_correct = []\n",
      "\n",
      "    for word, prediction in zip(model.index2word, all_predictions):\n",
      "        if prediction == 0:\n",
      "            not_correct.append(word)\n",
      "        else:\n",
      "            correct.append(word)\n",
      "\n",
      "    return correct, not_correct\n",
      "\n",
      "Correct sample: \n",
      "[\"B'desh\", 'FIBA_Diamond', 'Riyadh_Saudi_Arabia', 'Tamil_diaspora', 'UVU', 'Algarve_Cup', 'Belgrade_Serbia', 'Iceland', 'FYR_Macedonia', 'Christian_Estrosi', 'multination', 'Nordics', 'Kurdish_guerrillas', 'Falklands_Islands', 'Algerians', 'Ankara_Turkey', 'Guyana', 'Melaka', 'Galapagos_Islands', 'Parkersburg_W.Va.']\n",
      "------\n",
      "Incorrect sample: \n",
      "['M_Clapperton', 'www.vipernetworks.com', 'Edward_Indakwa', 'Prednisone_steroid', 'Jervey', 'Riley_McDermid', 'Third_Quarter_Fiscal', 'Naushad_Merali', 'Somewhat_ironically', 'paidcritics.com', 'TDS###', 'paceless', 'Jaylan_Walker_9', 'WestLB_Equity', 'GRAYDON', 'lateral_rigidity', 'Benefit_Administrators', 'oral_JAK2_inhibitor', 'docu_comedy', 'Lambrick']\n"
     ]
    }
   ],
   "source": [
    "print(inspect.getsource(get_all_predictions))\n",
    "\n",
    "correct, not_correct = get_all_predictions(classifier, gnews_model)\n",
    "\n",
    "print('Correct sample: ')\n",
    "print(random.sample(correct, 20))\n",
    "print('------')\n",
    "print('Incorrect sample: ')\n",
    "print(random.sample(not_correct, 20))"
   ]
  },
  {
   "cell_type": "markdown",
   "metadata": {},
   "source": [
    "## Calculating Semantic Distances Inside a Class\n",
    "\n",
    "Another useful application of Word2Vec embeddings is that we can find words related to a particular topic, concept or class. For instance, we can see what countries are closely related to coffee (maybe because they consume it a lot or because they produce it, like Colombia).\n",
    "\n",
    "We can perform this task by ranking the members of a class (countries in this case) agasint the criterion (coffee) based on their relative distance to it."
   ]
  },
  {
   "cell_type": "code",
   "execution_count": 14,
   "metadata": {},
   "outputs": [
    {
     "name": "stdout",
     "output_type": "stream",
     "text": [
      "country_vectors shape: (184, 300)\n"
     ]
    }
   ],
   "source": [
    "# Links countries to an index.\n",
    "country_to_index = {country['name']: index for index, country in enumerate(countries)}\n",
    "\n",
    "# Get the vector associate to each country.\n",
    "country_vectors = np.asarray([gnews_model[country['name']] \n",
    "                              for country \n",
    "                              in countries \n",
    "                              if country['name'] in gnews_model])\n",
    "\n",
    "print(f'country_vectors shape: {country_vectors.shape}')"
   ]
  },
  {
   "cell_type": "markdown",
   "metadata": {},
   "source": [
    "Just to verify we're on the right path, let's see what's similar to Canada:"
   ]
  },
  {
   "cell_type": "code",
   "execution_count": 15,
   "metadata": {},
   "outputs": [
    {
     "name": "stdout",
     "output_type": "stream",
     "text": [
      "Canada 7.544024\n",
      "New_Zealand 3.9619699\n",
      "Finland 3.9392407\n",
      "Puerto_Rico 3.838145\n",
      "Jamaica 3.8102932\n",
      "Sweden 3.8042789\n",
      "Slovakia 3.703874\n",
      "Australia 3.671101\n",
      "Bahamas 3.6240416\n",
      "United_States 3.5374339\n"
     ]
    }
   ],
   "source": [
    "distances = np.dot(country_vectors, country_vectors[country_to_index['Canada']])\n",
    "\n",
    "for index in reversed(np.argsort(distances)[-10:]):\n",
    "    print(countries[index]['name'], distances[index])"
   ]
  },
  {
   "cell_type": "markdown",
   "metadata": {},
   "source": [
    "Well, it makes sense. Most countries related to Canada speak English, and others like Sweden or Slovakia are pretty adept to hockey.\n",
    "\n",
    "We'll use the function `rank_countries` to determine which countries are more relevant given a particular term or criteria:"
   ]
  },
  {
   "cell_type": "code",
   "execution_count": 16,
   "metadata": {},
   "outputs": [
    {
     "name": "stdout",
     "output_type": "stream",
     "text": [
      "def rank_countries(model, term, countries, country_vectors, top_n=10, field='name'):\n",
      "    if term not in model:\n",
      "        return []\n",
      "\n",
      "    vector = model[term]\n",
      "    distances = np.dot(country_vectors, vector)\n",
      "\n",
      "    return [(countries[index][field], float(distances[index]))\n",
      "            for index in reversed(np.argsort(distances)[-top_n:])]\n",
      "\n"
     ]
    },
    {
     "data": {
      "text/plain": [
       "[('Ethiopia', 1.9432250261306763),\n",
       " ('Kenya', 1.9391343593597412),\n",
       " ('Colombia', 1.9116394519805908),\n",
       " ('Burundi', 1.885450839996338),\n",
       " ('Tanzania', 1.883944034576416),\n",
       " ('Uganda', 1.7865114212036133),\n",
       " ('East_Timor', 1.7661278247833252),\n",
       " ('Rwanda', 1.7186617851257324),\n",
       " ('Djibouti', 1.670926570892334),\n",
       " ('Costa_Rica', 1.6578598022460938)]"
      ]
     },
     "execution_count": 16,
     "metadata": {},
     "output_type": "execute_result"
    }
   ],
   "source": [
    "print(inspect.getsource(rank_countries))\n",
    "\n",
    "rank_countries(gnews_model, 'coffee', countries, country_vectors)"
   ]
  },
  {
   "cell_type": "markdown",
   "metadata": {},
   "source": [
    "Given the model we are using was trained on Google News, these results are biased by the appearance of these countries and the word 'coffee' in the same context. Nevertheless, they look quite good, don't you think?"
   ]
  },
  {
   "cell_type": "markdown",
   "metadata": {},
   "source": [
    "## Visualizing Country Data on a Map\n",
    "\n",
    "We can use all the tools we defined in the cells above to visualize countries that rink higher on a certain criteria in a world map. We'll leverage the power of `GeoPandas` for this task.\n",
    "\n",
    "Let's start small. We'll just load the entire world :)"
   ]
  },
  {
   "cell_type": "code",
   "execution_count": 18,
   "metadata": {},
   "outputs": [
    {
     "data": {
      "text/html": [
       "<div>\n",
       "<style scoped>\n",
       "    .dataframe tbody tr th:only-of-type {\n",
       "        vertical-align: middle;\n",
       "    }\n",
       "\n",
       "    .dataframe tbody tr th {\n",
       "        vertical-align: top;\n",
       "    }\n",
       "\n",
       "    .dataframe thead th {\n",
       "        text-align: right;\n",
       "    }\n",
       "</style>\n",
       "<table border=\"1\" class=\"dataframe\">\n",
       "  <thead>\n",
       "    <tr style=\"text-align: right;\">\n",
       "      <th></th>\n",
       "      <th>pop_est</th>\n",
       "      <th>continent</th>\n",
       "      <th>name</th>\n",
       "      <th>iso_a3</th>\n",
       "      <th>gdp_md_est</th>\n",
       "      <th>geometry</th>\n",
       "    </tr>\n",
       "  </thead>\n",
       "  <tbody>\n",
       "    <tr>\n",
       "      <th>0</th>\n",
       "      <td>28400000.0</td>\n",
       "      <td>Asia</td>\n",
       "      <td>Afghanistan</td>\n",
       "      <td>AFG</td>\n",
       "      <td>22270.0</td>\n",
       "      <td>POLYGON ((61.21081709172574 35.65007233330923,...</td>\n",
       "    </tr>\n",
       "    <tr>\n",
       "      <th>1</th>\n",
       "      <td>12799293.0</td>\n",
       "      <td>Africa</td>\n",
       "      <td>Angola</td>\n",
       "      <td>AGO</td>\n",
       "      <td>110300.0</td>\n",
       "      <td>(POLYGON ((16.32652835456705 -5.87747039146621...</td>\n",
       "    </tr>\n",
       "    <tr>\n",
       "      <th>2</th>\n",
       "      <td>3639453.0</td>\n",
       "      <td>Europe</td>\n",
       "      <td>Albania</td>\n",
       "      <td>ALB</td>\n",
       "      <td>21810.0</td>\n",
       "      <td>POLYGON ((20.59024743010491 41.85540416113361,...</td>\n",
       "    </tr>\n",
       "    <tr>\n",
       "      <th>3</th>\n",
       "      <td>4798491.0</td>\n",
       "      <td>Asia</td>\n",
       "      <td>United Arab Emirates</td>\n",
       "      <td>ARE</td>\n",
       "      <td>184300.0</td>\n",
       "      <td>POLYGON ((51.57951867046327 24.24549713795111,...</td>\n",
       "    </tr>\n",
       "    <tr>\n",
       "      <th>4</th>\n",
       "      <td>40913584.0</td>\n",
       "      <td>South America</td>\n",
       "      <td>Argentina</td>\n",
       "      <td>ARG</td>\n",
       "      <td>573900.0</td>\n",
       "      <td>(POLYGON ((-65.50000000000003 -55.199999999999...</td>\n",
       "    </tr>\n",
       "  </tbody>\n",
       "</table>\n",
       "</div>"
      ],
      "text/plain": [
       "      pop_est      continent                  name iso_a3  gdp_md_est  \\\n",
       "0  28400000.0           Asia           Afghanistan    AFG     22270.0   \n",
       "1  12799293.0         Africa                Angola    AGO    110300.0   \n",
       "2   3639453.0         Europe               Albania    ALB     21810.0   \n",
       "3   4798491.0           Asia  United Arab Emirates    ARE    184300.0   \n",
       "4  40913584.0  South America             Argentina    ARG    573900.0   \n",
       "\n",
       "                                            geometry  \n",
       "0  POLYGON ((61.21081709172574 35.65007233330923,...  \n",
       "1  (POLYGON ((16.32652835456705 -5.87747039146621...  \n",
       "2  POLYGON ((20.59024743010491 41.85540416113361,...  \n",
       "3  POLYGON ((51.57951867046327 24.24549713795111,...  \n",
       "4  (POLYGON ((-65.50000000000003 -55.199999999999...  "
      ]
     },
     "execution_count": 18,
     "metadata": {},
     "output_type": "execute_result"
    }
   ],
   "source": [
    "world = gpd.read_file(gpd.datasets.get_path('naturalearth_lowres'))\n",
    "world.head()"
   ]
  },
  {
   "cell_type": "markdown",
   "metadata": {},
   "source": [
    "We can use the `map_term` to highlight countries that rank higher on a certain criteria like, for instance, consuming or producing lots of coffee."
   ]
  },
  {
   "cell_type": "code",
   "execution_count": 20,
   "metadata": {},
   "outputs": [
    {
     "name": "stdout",
     "output_type": "stream",
     "text": [
      "def map_term(model, term, countries, country_vectors, world):\n",
      "    d = {key.upper(): value\n",
      "         for key, value\n",
      "         in rank_countries(model, term, countries, country_vectors, top_n=0, field='cc3')}\n",
      "\n",
      "    world[term] = world['iso_a3'].map(d)\n",
      "    world[term] /= world[term].max()\n",
      "    world.dropna().plot(term, cmap='OrRd')\n",
      "\n"
     ]
    },
    {
     "data": {
      "image/png": "[encoded data removed]",
      "text/plain": [
       "<Figure size 432x288 with 1 Axes>"
      ]
     },
     "metadata": {
      "needs_background": "light"
     },
     "output_type": "display_data"
    }
   ],
   "source": [
    "print(inspect.getsource(map_term))\n",
    "\n",
    "map_term(gnews_model, 'coffee', countries, country_vectors, world)"
   ]
  },
  {
   "cell_type": "markdown",
   "metadata": {},
   "source": [
    "Visualizing our data is a crucial part of machine learning. Whether on a map or a more traditional plot, to see what's happening in our data can lead us to powerful insights with the potential of translating into performant models.\n",
    "\n",
    "It also tells us if something's not right. For instance, do Greenlandics drink or produce that much coffee? Or is it an effect of the existence of a variation of an Irish coffe called Greenlandic coffee?"
   ]
  }
 ],
 "metadata": {
  "kernelspec": {
   "display_name": "Python 3",
   "language": "python",
   "name": "python3"
  },
  "language_info": {
   "codemirror_mode": {
    "name": "ipython",
    "version": 3
   },
   "file_extension": ".py",
   "mimetype": "text/x-python",
   "name": "python",
   "nbconvert_exporter": "python",
   "pygments_lexer": "ipython3",
   "version": "3.6.6"
  }
 },
 "nbformat": 4,
 "nbformat_minor": 2
}
